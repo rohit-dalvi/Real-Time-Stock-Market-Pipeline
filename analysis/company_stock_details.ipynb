{
 "metadata": {
  "kernelspec": {
   "display_name": "Streamlit Notebook",
   "name": "streamlit"
  },
  "lastEditStatus": {
   "notebookId": "6zr5n5aduyge425septh",
   "authorId": "8434703863490",
   "authorName": "ROHITDALVI96",
   "authorEmail": "rohitdalvi.dev@gmail.com",
   "sessionId": "1133e623-9e49-4585-bb45-ab863ae46bfc",
   "lastEditTime": 1758580194982
  }
 },
 "nbformat_minor": 5,
 "nbformat": 4,
 "cells": [
  {
   "cell_type": "code",
   "id": "3775908f-ca36-4846-8f38-5adca39217f2",
   "metadata": {
    "language": "python",
    "name": "cell1"
   },
   "source": "from snowflake.snowpark.session import Session\nsession = get_active_session()",
   "execution_count": null,
   "outputs": []
  },
  {
   "cell_type": "code",
   "id": "8d50cbf4-0c8d-4950-86cb-114990437ac9",
   "metadata": {
    "language": "python",
    "name": "cell2"
   },
   "source": "from snowflake.snowpark.session import Session\nimport pandas as pd\nimport matplotlib.pyplot as plt\nimport seaborn as sns\nimport numpy as np\nimport re\nfrom wordcloud import WordCloud\n\nsns.set_palette(\"viridis\")\n\n# Get Snowflake's active session\nsession = get_active_session()\n\n# Load tables (using current DB + Schema from session context)\ndf_stocks = session.table(\"COMPANY_STOCKS\")\ndf_reviews = session.table(\"COMPANY_REVIEWS\")\ndf_stock_quotes = session.table(\"SILVER_CLEAN_STOCK_QUOTES\")\n",
   "execution_count": null,
   "outputs": []
  },
  {
   "cell_type": "code",
   "id": "d3c832e2-0d24-4b00-a5c8-8524496d3c20",
   "metadata": {
    "language": "python",
    "name": "cell16"
   },
   "outputs": [],
   "source": "stocks = df_stocks.to_pandas()\nreviews = df_reviews.to_pandas()\nquotes = df_stock_quotes.to_pandas()",
   "execution_count": null
  },
  {
   "cell_type": "code",
   "id": "660d7d8a-8ce4-4dd7-976c-8674c29fc803",
   "metadata": {
    "language": "python",
    "name": "cell19"
   },
   "outputs": [],
   "source": "stocks.head()",
   "execution_count": null
  },
  {
   "cell_type": "code",
   "id": "701978e1-b40b-4901-bf78-b71926ab1c83",
   "metadata": {
    "language": "python",
    "name": "cell17"
   },
   "outputs": [],
   "source": "reviews.head()",
   "execution_count": null
  },
  {
   "cell_type": "code",
   "id": "889f2f96-148b-4637-8ae2-489d2efa268c",
   "metadata": {
    "language": "python",
    "name": "cell20"
   },
   "outputs": [],
   "source": "quotes.head()",
   "execution_count": null
  },
  {
   "cell_type": "code",
   "id": "7b24a3d4-4d9c-4da6-b40e-1628f9982aa4",
   "metadata": {
    "language": "python",
    "name": "cell8",
    "codeCollapsed": false
   },
   "outputs": [],
   "source": "# General overview of data\nprint(\"Stocks Data Overview:\")\nprint(stocks.info())\nprint(stocks.describe(include='all'))\n\nprint(\"\\nReviews Data Overview:\")\nprint(reviews.info())\nprint(reviews.head())\n\nprint(\"\\nStock Quotes Data Overview:\")\nprint(quotes.info())\nprint(quotes.describe())",
   "execution_count": null
  },
  {
   "cell_type": "markdown",
   "id": "c6df72f5-559d-43fd-ae1d-1dee8416ee4d",
   "metadata": {
    "name": "cell5",
    "collapsed": false
   },
   "source": "## Clean and Visualize Ratings and Review data"
  },
  {
   "cell_type": "code",
   "id": "d6f25ad3-07e9-4b76-83a8-97d0306e7af0",
   "metadata": {
    "language": "python",
    "name": "SplitString"
   },
   "outputs": [],
   "source": "# Split COMPANY_REVIEWS into Rating and Review text\nreviews[\"RATING\"] = reviews[\"COMPANY_REVIEWS\"].str.extract(r'(\\d+\\.\\d+)/5').astype(float)\nreviews[\"REVIEW\"] = reviews[\"COMPANY_REVIEWS\"].str.replace(r'^\\d+\\.\\d+/5\\s*-\\s*', '', regex=True)\nreviews_cleaned = reviews[[\"SYMBOL\",\"COMPANY_NAME\",\"RATING\",\"REVIEW\"]]",
   "execution_count": null
  },
  {
   "cell_type": "code",
   "id": "767bdce0-3e91-4512-91ee-e8f11dc08d69",
   "metadata": {
    "language": "python",
    "name": "cell18"
   },
   "outputs": [],
   "source": "# Write the pandas DataFrame 'reviews_cleaned' to a Snowflake table\nsession.write_pandas(\n    reviews_cleaned,\n    table_name=\"COMPANY_REVIEWS_CLEANED\",  # specify your target table name here\n    auto_create_table=True,  # create table if it does not exist\n    overwrite=True           # overwrite existing table data\n)\n",
   "execution_count": null
  },
  {
   "cell_type": "code",
   "id": "9dbc7475-3396-4029-b08f-7135a26eab89",
   "metadata": {
    "language": "python",
    "name": "cell3",
    "codeCollapsed": false
   },
   "outputs": [],
   "source": "# Missing Values\n\nprint(\"\\nMissing values in Stocks:\\n\", stocks.isnull().sum())\nprint(\"\\nMissing values in Reviews:\\n\", reviews_cleaned.isnull().sum())",
   "execution_count": null
  },
  {
   "cell_type": "code",
   "id": "dd910c26-c873-4230-98b1-4df76dc22307",
   "metadata": {
    "language": "python",
    "name": "cell10"
   },
   "outputs": [],
   "source": "# EDA on reviews\nplt.figure(figsize=(8, 5))\nsns.histplot(reviews_cleaned['RATING'].dropna(), bins=10, kde=True)\nplt.title('Distribution of Company Reviews Ratings')\nplt.xlabel('Rating')\nplt.ylabel('Frequency')\nplt.show()",
   "execution_count": null
  },
  {
   "cell_type": "markdown",
   "id": "8e7cb73c-1e7b-485d-a012-5da741ee9c26",
   "metadata": {
    "name": "cell21",
    "collapsed": false
   },
   "source": "## Wordcloud"
  },
  {
   "cell_type": "code",
   "id": "95805283-c8a3-4380-b0c5-cc2cb2b07cf8",
   "metadata": {
    "language": "python",
    "name": "cell4"
   },
   "outputs": [],
   "source": "if \"REVIEW\" in reviews_cleaned.columns:\n    text = \" \".join(reviews_cleaned[\"REVIEW\"].dropna().astype(str))\n    wc = WordCloud(width=800, height=400, background_color=\"white\").generate(text)\n\n    plt.figure(figsize=(12,6))\n    plt.imshow(wc, interpolation=\"bilinear\")\n    plt.axis(\"off\")\n    plt.title(\"Most Frequent Words in Reviews\")\n    plt.show()",
   "execution_count": null
  },
  {
   "cell_type": "code",
   "id": "f3b2dd81-20a1-43ce-8373-3afaaf109710",
   "metadata": {
    "language": "python",
    "name": "cell11"
   },
   "outputs": [],
   "source": "# Average rating by company\navg_rating = reviews_cleaned.groupby('SYMBOL')['RATING'].mean().reset_index()\nplt.figure(figsize=(12, 6))\nsns.barplot(x='SYMBOL', y='RATING', data=avg_rating)\nplt.title('Average Company Rating by Symbol')\nplt.xlabel('Company Symbol')\nplt.ylabel('Average Rating')\nplt.show()",
   "execution_count": null
  },
  {
   "cell_type": "markdown",
   "id": "87fcc1b0-9880-46a0-a194-a9b79a6c14f4",
   "metadata": {
    "name": "cell9",
    "collapsed": false
   },
   "source": "### EDA on company stocks\n"
  },
  {
   "cell_type": "code",
   "id": "7c95ed2f-7c40-49b1-a2ba-c382f43f5929",
   "metadata": {
    "language": "python",
    "name": "cell7"
   },
   "outputs": [],
   "source": "plt.figure(figsize=(10, 6))\nsns.histplot(stocks['P_E_RATIO'].dropna(), bins=30, kde=True)\nplt.title('Distribution of P/E Ratio')\nplt.xlabel('P/E Ratio')\nplt.ylabel('Frequency')\nplt.show()\n\nplt.figure(figsize=(10, 6))\nsns.boxplot(x='SECTOR', y='P_E_RATIO', data=stocks)\nplt.title('P/E Ratio by Sector')\nplt.xticks(rotation=45)\nplt.show()",
   "execution_count": null
  },
  {
   "cell_type": "markdown",
   "id": "ca1d6457-815b-4ce4-92a6-da4093c6728b",
   "metadata": {
    "name": "cell12",
    "collapsed": false
   },
   "source": "## EDA on stock quotes\n"
  },
  {
   "cell_type": "code",
   "id": "f778a037-c78c-47cf-9ce5-dd143a8c555b",
   "metadata": {
    "language": "python",
    "name": "cell13"
   },
   "outputs": [],
   "source": "plt.figure(figsize=(12, 6))\nquotes['MARKET_TIMESTAMP'] = pd.to_datetime(quotes['MARKET_TIMESTAMP'])\nquotes_2025 = quotes[quotes['MARKET_TIMESTAMP'].dt.year == 2025]\nsns.boxplot(x='SYMBOL', y='CURRENT_PRICE', data=quotes_2025)\nplt.xticks(rotation=45)\nplt.title('2025 Stock Price Distribution by Company')\nplt.xlabel('Company')\nplt.ylabel('Current Price')\nplt.show()\n",
   "execution_count": null
  },
  {
   "cell_type": "markdown",
   "id": "9808e6d6-63c6-49c8-9194-ef0738b00494",
   "metadata": {
    "name": "cell15",
    "collapsed": false
   },
   "source": "## Sentimental Analysis"
  },
  {
   "cell_type": "code",
   "id": "d8ef7935-8359-4341-b1b1-1db2a626f4ac",
   "metadata": {
    "language": "python",
    "name": "cell14",
    "codeCollapsed": false
   },
   "outputs": [],
   "source": "from textblob import TextBlob\n\n# Define a function to get sentiment polarity using TextBlob\ndef get_sentiment_textblob(text):\n    if isinstance(text, str):\n        return TextBlob(text).sentiment.polarity\n    else:\n        return 0\n\n# Apply function to reviews dataframe\nreviews_cleaned = reviews_cleaned.copy()\nreviews_cleaned['sentiment_score'] = reviews_cleaned['REVIEW'].apply(get_sentiment_textblob)\n\n# Basic sentiment classification based on polarity score\nreviews_cleaned['sentiment_label'] = reviews_cleaned['sentiment_score'].apply(lambda x:\n                                                             'positive' if x > 0.05 else\n                                                             ('negative' if x < -0.05 else 'neutral'))\n\n# Average sentiment per company\navg_sentiment = reviews_cleaned.groupby('SYMBOL')['sentiment_score'].mean().reset_index()\n\n# Plot average sentiment per company\nplt.figure(figsize=(12, 6))\nsns.barplot(x='SYMBOL', y='sentiment_score', data=avg_sentiment, color='steelblue')\nplt.title('Average Sentiment Score per Company')\nplt.xlabel('Company Symbol')\nplt.ylabel('Average Sentiment Score')\nplt.show()\n\n# Plot sentiment label distribution\nplt.figure(figsize=(10, 6))\nsns.countplot(x='sentiment_label', data=reviews_cleaned, order=['positive', 'neutral', 'negative'], hue='sentiment_label', palette='viridis', dodge=False, legend=False)\nplt.title('Sentiment Label Distribution in Reviews')\nplt.xlabel('Sentiment')\nplt.ylabel('Count')\nplt.show()\n",
   "execution_count": null
  }
 ]
}